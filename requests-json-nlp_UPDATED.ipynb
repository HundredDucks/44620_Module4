{
 "cells": [
  {
   "cell_type": "markdown",
   "metadata": {},
   "source": [
    "# Web Mining and Applied NLP (44-620)\n",
    "\n",
    "## Requests, JSON, and NLP\n",
    "\n",
    "### Student Name:Zach Fuller\n",
    "\n",
    "Perform the tasks described in the Markdown cells below.  When you have completed the assignment make sure your code cells have all been run (and have output beneath them) and ensure you have committed and pushed ALL of your changes to your assignment repository.\n",
    "\n",
    "Make sure you have [installed spaCy and its pipeline](https://spacy.io/usage#quickstart) and [spaCyTextBlob](https://spacy.io/universe/project/spacy-textblob)\n",
    "\n",
    "Every question that requires you to write code will have a code cell underneath it; you may either write your entire solution in that cell or write it in a python file (`.py`), then import and run the appropriate code to answer the question.\n",
    "\n",
    "This assignment requires that you write additional files (either JSON or pickle files); make sure to submit those files in your repository as well."
   ]
  },
  {
   "cell_type": "markdown",
   "metadata": {
    "jp-MarkdownHeadingCollapsed": true,
    "tags": []
   },
   "source": [
    "## GitHub: https://github.com/HundredDucks/44620_Module4"
   ]
  },
  {
   "cell_type": "markdown",
   "metadata": {},
   "source": [
    "## Question 1"
   ]
  },
  {
   "cell_type": "markdown",
   "metadata": {},
   "source": [
    "1. The following code accesses the [lyrics.ovh](https://lyricsovh.docs.apiary.io/#reference/0/lyrics-of-a-song/search) public api, searches for the lyrics of a song, and stores it in a dictionary object.  Write the resulting json to a file (either a JSON file or a pickle file; you choose). You will read in the contents of this file for future questions so we do not need to frequently access the API."
   ]
  },
  {
   "cell_type": "code",
   "execution_count": 1,
   "metadata": {},
   "outputs": [],
   "source": [
    "import requests\n",
    "import json\n",
    "\n",
    "AUTHOR='Edgar Allan Poe'\n",
    "POEM = 'A Dream Within A Dream'\n",
    "\n",
    "URL = f'https://poetrydb.org/author,title/{AUTHOR};{POEM}'\n",
    "result = json.loads(requests.get(URL).text)\n",
    "poem = '\\n'.join(result[0]['lines']) "
   ]
  },
  {
   "cell_type": "markdown",
   "metadata": {},
   "source": [
    "### Printing lyrics per the grading rubric. The rubric lists this as 1 point for Question 1, but it isn't requested until question 2, so I am going to print it for both questions just to be safe."
   ]
  },
  {
   "cell_type": "code",
   "execution_count": 2,
   "metadata": {},
   "outputs": [
    {
     "data": {
      "text/plain": [
       "[{'title': 'A Dream Within A Dream',\n",
       "  'author': 'Edgar Allan Poe',\n",
       "  'lines': ['Take this kiss upon the brow!',\n",
       "   'And, in parting from you now,',\n",
       "   'Thus much let me avow--',\n",
       "   'You are not wrong, who deem',\n",
       "   'That my days have been a dream:',\n",
       "   'Yet if hope has flown away',\n",
       "   'In a night, or in a day,',\n",
       "   'In a vision or in none,',\n",
       "   'Is it therefore the less _gone_?',\n",
       "   '_All_ that we see or seem',\n",
       "   'Is but a dream within a dream.',\n",
       "   '',\n",
       "   'I stand amid the roar',\n",
       "   'Of a surf-tormented shore,',\n",
       "   'And I hold within my hand',\n",
       "   'Grains of the golden sand--',\n",
       "   'How few! yet how they creep',\n",
       "   'Through my fingers to the deep',\n",
       "   'While I weep--while I weep!',\n",
       "   'O God! can I not grasp',\n",
       "   'Them with a tighter clasp?',\n",
       "   'O God! can I not save',\n",
       "   '_One_ from the pitiless wave?',\n",
       "   'Is _all_ that we see or seem',\n",
       "   'But a dream within a dream?'],\n",
       "  'linecount': '24'}]"
      ]
     },
     "execution_count": 2,
     "metadata": {},
     "output_type": "execute_result"
    }
   ],
   "source": [
    "result"
   ]
  },
  {
   "cell_type": "code",
   "execution_count": 3,
   "metadata": {},
   "outputs": [],
   "source": [
    "#I noticed that each poem is enclosed in [], making python think it is a list instead of a dictionary, so I found this for loop online to\n",
    "#convert a list to a dictionary\n",
    "result_dict = {}\n",
    "for i in result:\n",
    "    result_dict.update(i)"
   ]
  },
  {
   "cell_type": "code",
   "execution_count": 4,
   "metadata": {},
   "outputs": [
    {
     "data": {
      "text/plain": [
       "{'title': 'A Dream Within A Dream',\n",
       " 'author': 'Edgar Allan Poe',\n",
       " 'lines': ['Take this kiss upon the brow!',\n",
       "  'And, in parting from you now,',\n",
       "  'Thus much let me avow--',\n",
       "  'You are not wrong, who deem',\n",
       "  'That my days have been a dream:',\n",
       "  'Yet if hope has flown away',\n",
       "  'In a night, or in a day,',\n",
       "  'In a vision or in none,',\n",
       "  'Is it therefore the less _gone_?',\n",
       "  '_All_ that we see or seem',\n",
       "  'Is but a dream within a dream.',\n",
       "  '',\n",
       "  'I stand amid the roar',\n",
       "  'Of a surf-tormented shore,',\n",
       "  'And I hold within my hand',\n",
       "  'Grains of the golden sand--',\n",
       "  'How few! yet how they creep',\n",
       "  'Through my fingers to the deep',\n",
       "  'While I weep--while I weep!',\n",
       "  'O God! can I not grasp',\n",
       "  'Them with a tighter clasp?',\n",
       "  'O God! can I not save',\n",
       "  '_One_ from the pitiless wave?',\n",
       "  'Is _all_ that we see or seem',\n",
       "  'But a dream within a dream?'],\n",
       " 'linecount': '24'}"
      ]
     },
     "execution_count": 4,
     "metadata": {},
     "output_type": "execute_result"
    }
   ],
   "source": [
    "result_dict"
   ]
  },
  {
   "cell_type": "code",
   "execution_count": 5,
   "metadata": {},
   "outputs": [
    {
     "data": {
      "text/plain": [
       "['Take this kiss upon the brow!',\n",
       " 'And, in parting from you now,',\n",
       " 'Thus much let me avow--',\n",
       " 'You are not wrong, who deem',\n",
       " 'That my days have been a dream:',\n",
       " 'Yet if hope has flown away',\n",
       " 'In a night, or in a day,',\n",
       " 'In a vision or in none,',\n",
       " 'Is it therefore the less _gone_?',\n",
       " '_All_ that we see or seem',\n",
       " 'Is but a dream within a dream.',\n",
       " '',\n",
       " 'I stand amid the roar',\n",
       " 'Of a surf-tormented shore,',\n",
       " 'And I hold within my hand',\n",
       " 'Grains of the golden sand--',\n",
       " 'How few! yet how they creep',\n",
       " 'Through my fingers to the deep',\n",
       " 'While I weep--while I weep!',\n",
       " 'O God! can I not grasp',\n",
       " 'Them with a tighter clasp?',\n",
       " 'O God! can I not save',\n",
       " '_One_ from the pitiless wave?',\n",
       " 'Is _all_ that we see or seem',\n",
       " 'But a dream within a dream?']"
      ]
     },
     "execution_count": 5,
     "metadata": {},
     "output_type": "execute_result"
    }
   ],
   "source": [
    "result_dict['lines']"
   ]
  },
  {
   "cell_type": "code",
   "execution_count": 6,
   "metadata": {},
   "outputs": [],
   "source": [
    "#The 'lines' key was also stored as a list, so I had to convert that to a string\n",
    "result_dict['lines'] = ' '.join(result_dict['lines'])"
   ]
  },
  {
   "cell_type": "code",
   "execution_count": 7,
   "metadata": {},
   "outputs": [
    {
     "data": {
      "text/plain": [
       "str"
      ]
     },
     "execution_count": 7,
     "metadata": {},
     "output_type": "execute_result"
    }
   ],
   "source": [
    "#checking to make sure the conversion worked\n",
    "type(result_dict['lines'])"
   ]
  },
  {
   "cell_type": "code",
   "execution_count": 8,
   "metadata": {},
   "outputs": [],
   "source": [
    "#converting to json\n",
    "with open ('ADreamWithinADream.json', 'w') as fp:\n",
    "    json.dump(result_dict, fp)"
   ]
  },
  {
   "cell_type": "markdown",
   "metadata": {},
   "source": [
    "## Question 2"
   ]
  },
  {
   "cell_type": "markdown",
   "metadata": {},
   "source": [
    "2. Read in the contents of your file.  Print the lyrics of the song (not the entire dictionary!) and use spaCyTextBlob to perform sentiment analysis on the lyrics.  Print the polarity score of the sentiment analysis.  Given that the range of the polarity score is `[-1.0,1.0]` which corresponds to how positive or negative the text in question is, do you think the lyrics have a more positive or negative connotaion?  Answer this question in a comment in your code cell."
   ]
  },
  {
   "cell_type": "markdown",
   "metadata": {},
   "source": [
    "### Loading JSON file created in question 1, printing lyrics"
   ]
  },
  {
   "cell_type": "code",
   "execution_count": 9,
   "metadata": {},
   "outputs": [
    {
     "name": "stdout",
     "output_type": "stream",
     "text": [
      "Take this kiss upon the brow! And, in parting from you now, Thus much let me avow-- You are not wrong, who deem That my days have been a dream: Yet if hope has flown away In a night, or in a day, In a vision or in none, Is it therefore the less _gone_? _All_ that we see or seem Is but a dream within a dream.  I stand amid the roar Of a surf-tormented shore, And I hold within my hand Grains of the golden sand-- How few! yet how they creep Through my fingers to the deep While I weep--while I weep! O God! can I not grasp Them with a tighter clasp? O God! can I not save _One_ from the pitiless wave? Is _all_ that we see or seem But a dream within a dream?\n"
     ]
    }
   ],
   "source": [
    "with open('ADreamWithinADream.json', 'r') as nf:\n",
    "    nf_data = json.load(nf)\n",
    "    print(nf_data['lines'])"
   ]
  },
  {
   "cell_type": "code",
   "execution_count": 10,
   "metadata": {},
   "outputs": [
    {
     "data": {
      "text/plain": [
       "<spacytextblob.spacytextblob.SpacyTextBlob at 0x1cadbe1ae20>"
      ]
     },
     "execution_count": 10,
     "metadata": {},
     "output_type": "execute_result"
    }
   ],
   "source": [
    "import spacy\n",
    "from spacytextblob.spacytextblob import SpacyTextBlob\n",
    "nlp = spacy.load('en_core_web_sm')\n",
    "nlp.add_pipe('spacytextblob')"
   ]
  },
  {
   "cell_type": "code",
   "execution_count": 11,
   "metadata": {},
   "outputs": [
    {
     "name": "stdout",
     "output_type": "stream",
     "text": [
      "Sentiment Analysis: [(['much'], 0.2, 0.2, None), (['not', 'wrong'], 0.25, 0.9, None), (['less'], -0.16666666666666666, 0.06666666666666667, None), (['golden'], 0.3, 0.5, None), (['few', '!'], -0.25, 0.1, None), (['deep', '!', '!', '!'], 0.0, 0.4, None)]\n"
     ]
    }
   ],
   "source": [
    "doc = nlp(nf_data['lines'])\n",
    "print(\"Sentiment Analysis:\", doc._.blob.sentiment_assessments.assessments)"
   ]
  },
  {
   "cell_type": "code",
   "execution_count": 12,
   "metadata": {},
   "outputs": [
    {
     "name": "stdout",
     "output_type": "stream",
     "text": [
      "Polarity Score: 0.055555555555555546\n"
     ]
    }
   ],
   "source": [
    "print(\"Polarity Score:\", doc._.blob.polarity)\n",
    "#This is a very low positive polarity score, meaning that the lyrics are barely more positive than negative.\n",
    "#I personally think the lyrics have a slightly more negative or meloncholy tone, but the poem does start in a more positive way.\n",
    "#It's interesting to see what words were the focus of the sentiment analysis. It looks like adjectives are the most analyze word type, or at least\n",
    "#have the highest weight. THe sentimenet analysis also seemed to pick up on the punctuation a lot as well."
   ]
  },
  {
   "cell_type": "markdown",
   "metadata": {},
   "source": [
    "## Question 3"
   ]
  },
  {
   "cell_type": "markdown",
   "metadata": {},
   "source": [
    "## Because the original lyric API is not working, I used the recommended poetry API instead, so I only used author and title as arguments, as that is all that is needed to access the poem on the website"
   ]
  },
  {
   "cell_type": "markdown",
   "metadata": {},
   "source": [
    "3. Write a function that takes an artist, song, and filename, accesses the lyrics.ovh api to get the song lyrics, and writes the results to the specified filename.  Test this function by getting the lyrics to any four songs of your choice and storing them in different files."
   ]
  },
  {
   "cell_type": "code",
   "execution_count": 13,
   "metadata": {},
   "outputs": [],
   "source": [
    "def lyrics(Authors, Titles):\n",
    "    #access poem API site\n",
    "    api = f'https://poetrydb.org/author,title/{Authors};{Titles}'\n",
    "    results = json.loads(requests.get(api).text)\n",
    "    #create dictionary to convert contents too\n",
    "    results_dict = {}\n",
    "    for i in results:\n",
    "        results_dict.update(i)\n",
    "    #convert lines to string instead of list\n",
    "    results_dict['lines'] = ' '.join(results_dict['lines'])\n",
    "    with open(f'{Titles}.json', 'w') as x:\n",
    "        json.dump(results_dict, x)\n",
    "    x.close()\n",
    "    return results_dict['lines']"
   ]
  },
  {
   "cell_type": "code",
   "execution_count": 14,
   "metadata": {},
   "outputs": [
    {
     "data": {
      "text/plain": [
       "\"On a starred night Prince Lucifer uprose. Tired of his dark dominion swung the fiend Above the rolling ball in cloud part screened, Where sinners hugged their spectre of repose. Poor prey to his hot fit of pride were those. And now upon his western wing he leaned, Now his huge bulk o'er Afric's sands careened, Now the black planet shadowed Arctic snows. Soaring through wider zones that pricked his scars With memory of the old revolt from Awe, He reached a middle height, and at the stars, Which are the brain of heaven, he looked, and sank. Around the ancient track marched, rank on rank, The army of unalterable law.\""
      ]
     },
     "execution_count": 14,
     "metadata": {},
     "output_type": "execute_result"
    }
   ],
   "source": [
    "lyrics('George Meredith', 'Lucifer in Starlight')"
   ]
  },
  {
   "cell_type": "code",
   "execution_count": 15,
   "metadata": {},
   "outputs": [
    {
     "data": {
      "text/plain": [
       "'Summer begins to have the look Peruser of enchanting Book Reluctantly but sure perceives A gain upon the backward leaves --  Autumn begins to be inferred By millinery of the cloud Or deeper color in the shawl That wraps the everlasting hill.  The eye begins its avarice A meditation chastens speech Some Dyer of a distant tree Resumes his gaudy industry.  Conclusion is the course of All At most to be perennial And then elude stability Recalls to immortality.'"
      ]
     },
     "execution_count": 15,
     "metadata": {},
     "output_type": "execute_result"
    }
   ],
   "source": [
    "lyrics('Emily Dickinson', 'Summer begins to have the look')"
   ]
  },
  {
   "cell_type": "code",
   "execution_count": 16,
   "metadata": {},
   "outputs": [
    {
     "data": {
      "text/plain": [
       "\"The Bombola faints in the hot Bowral tree, Where fierce Mullengudgery's smothering fires Far from the breezes of Coolgardie Burn ghastly and blue as the day expires;  And Murriwillumba complaineth in song For the garlanded bowers of Woolloomooloo, And the Ballarat Fly and the lone Wollongong They dream of the gardens of Jamberoo;  The wallabi sighs for the Murrubidgee, For the velvety sod of the Munno Parah, Where the waters of healing from Muloowurtie Flow dim in the gloaming by Yaranyackah;  The Koppio sorrows for lost Wolloway, And sigheth in secret for Murrurundi, The Whangeroo wombat lamenteth the day That made him an exile from Jerrilderie;  The Teawamute Tumut from Wirrega's glade, The Nangkita swallow, the Wallaroo swan, They long for the peace of the Timaru shade And thy balmy soft airs, O sweet Mittagong!  The Kooringa buffalo pants in the sun, The Kondoparinga lies gaping for breath, The Kongorong Camaum to the shadow has won, But the Goomeroo sinks in the slumber of death;  In the weltering hell of the Moorooroo plain The Yatala Wangary withers and dies, And the Worrow Wanilla, demented with pain, To the Woolgoolga woodlands despairingly flies;  Sweet Nangwarry's desolate, Coonamble wails, And Tungkillo Kuito in sables is drest, For the Whangerei winds fall asleep in the sails And the Booleroo life-breeze is dead in the west.  Mypongo, Kapunda, O slumber no more Yankalilla, Parawirra, be warned There's death in the air! Killanoola, wherefore Shall the prayer of Penola be scorned?  Cootamundra, and Takee, and Wakatipu, Toowoomba, Kaikoura are lost From Onkaparinga to far Oamaru All burn in this hell's holocaust!  Paramatta and Binnum are gone to their rest In the vale of Tapanni Taroom, Kawakawa, Deniliquin - all that was best In the earth are but graves and a tomb!  Narrandera mourns, Cameron answers not When the roll of the scathless we cry Tongariro, Goondiwindi, Woolundunga, the spot Is mute and forlorn where ye lie.\""
      ]
     },
     "execution_count": 16,
     "metadata": {},
     "output_type": "execute_result"
    }
   ],
   "source": [
    "lyrics('Mark Twain', 'A Sweltering Day in Australia')"
   ]
  },
  {
   "cell_type": "code",
   "execution_count": 17,
   "metadata": {},
   "outputs": [
    {
     "data": {
      "text/plain": [
       "\"Virtue runs before the muse And defies her skill, She is rapt, and doth refuse To wait a painter's will.  Star-adoring, occupied, Virtue cannot bend her, Just to please a poet's pride, To parade her splendor.  The bard must be with good intent No more his, but hers, Throw away his pen and paint, Kneel with worshippers.  Then, perchance, a sunny ray From the heaven of fire, His lost tools may over-pay, And better his desire.\""
      ]
     },
     "execution_count": 17,
     "metadata": {},
     "output_type": "execute_result"
    }
   ],
   "source": [
    "lyrics('Ralph Waldo Emerson', 'Loss And Gain')"
   ]
  },
  {
   "cell_type": "markdown",
   "metadata": {},
   "source": [
    "## Question 4 - Respons are listed in code cells as comments"
   ]
  },
  {
   "cell_type": "markdown",
   "metadata": {},
   "source": [
    "4. Write a function that takes the name of a file that contains song lyrics, loads the file, performs sentiment analysis, and returns the polarity score.  Use this function to print the polarity scores (with the name of the song) of the three files you created in question 3.  Does the reported polarity match your understanding of the song's lyrics? Why or why not do you think that might be?  Answer the questions in either a comment in the code cell or a markdown cell under the code cell."
   ]
  },
  {
   "cell_type": "code",
   "execution_count": 18,
   "metadata": {},
   "outputs": [],
   "source": [
    "def sentiment(song):\n",
    "    with open(f'{song}.json', 'r') as file:\n",
    "        file_data = json.load(file)\n",
    "        doc = nlp(file_data['lines'])\n",
    "        sa = doc._.blob.sentiment_assessments.assessments\n",
    "        polarity = doc._.blob.polarity\n",
    "        print(\"Title: \" + song)\n",
    "        print(\"Sentiment Analysis: \" + str(sa))\n",
    "        print(\"Polarity: \" + str(polarity))"
   ]
  },
  {
   "cell_type": "code",
   "execution_count": 19,
   "metadata": {},
   "outputs": [
    {
     "name": "stdout",
     "output_type": "stream",
     "text": [
      "Title: Lucifer in Starlight\n",
      "Sentiment Analysis: [(['tired'], -0.4, 0.7, None), (['dark'], -0.15, 0.4, None), (['above'], 0.0, 0.1, None), (['poor'], -0.4, 0.6, None), (['hot'], 0.25, 0.8500000000000001, None), (['fit'], 0.4, 0.4, None), (['western'], 0.0, 0.0, None), (['huge'], 0.4000000000000001, 0.9, None), (['black'], -0.16666666666666666, 0.43333333333333335, None), (['old'], 0.1, 0.2, None), (['middle'], 0.0, 0.0, None), (['rank'], -0.8, 0.9, None), (['rank'], -0.8, 0.9, None)]\n",
      "Polarity: -0.12051282051282051\n"
     ]
    }
   ],
   "source": [
    "sentiment('Lucifer in Starlight')\n",
    "#The polarity here does match what I expected, as the poem seems to cover a pretty dark topic of the uprising of the devil. I would have been\n",
    "#surprised if this score was in anyway positive. This is an interesting poem though!"
   ]
  },
  {
   "cell_type": "code",
   "execution_count": 20,
   "metadata": {},
   "outputs": [
    {
     "name": "stdout",
     "output_type": "stream",
     "text": [
      "Title: Summer begins to have the look\n",
      "Sentiment Analysis: [(['sure'], 0.5, 0.8888888888888888, None), (['distant'], -0.1, 0.35, None), (['most'], 0.5, 0.5, None)]\n",
      "Polarity: 0.3\n"
     ]
    }
   ],
   "source": [
    "sentiment('Summer begins to have the look')\n",
    "#The polarity score is a little higher than I expected, as the poem had a pretty neutral feel to me. The words the sentiment analysis weighted\n",
    "#are interesting, as they aren't words that evoke a lot of emotion compared to some other words in the poem. I'm not sure how exactly the analysis\n",
    "#weighs each word, but I don't think it is very finely tuned."
   ]
  },
  {
   "cell_type": "code",
   "execution_count": 21,
   "metadata": {},
   "outputs": [
    {
     "name": "stdout",
     "output_type": "stream",
     "text": [
      "Title: A Sweltering Day in Australia\n",
      "Sentiment Analysis: [(['hot'], 0.25, 0.8500000000000001, None), (['far'], 0.1, 1.0, None), (['blue'], 0.0, 0.1, None), (['fly'], 0.8, 0.9, None), (['dim'], 0.1, 0.5, None), (['secret'], -0.4, 0.7, None), (['long'], -0.05, 0.4, None), (['balmy'], 0.1, 0.8500000000000001, None), (['soft'], 0.1, 0.35, None), (['sweet', '!'], 0.4375, 0.65, None), (['sinks'], -0.1, 0.0, None), (['plain'], -0.21428571428571427, 0.35714285714285715, None), (['sweet'], 0.35, 0.65, None), (['dead'], -0.2, 0.4, None), (['no', 'more', '!'], -0.3125, 0.5, None), (['far', '!'], 0.125, 1.0, None), (['best', '!'], 1.0, 0.3, None)]\n",
      "Polarity: 0.12268907563025208\n"
     ]
    }
   ],
   "source": [
    "sentiment('A Sweltering Day in Australia')\n",
    "#This polarity score is about what I expected, as the poem felt fairly neutral and descriptive, although not overtly negative, meaning that a somewhat\n",
    "#positive score was expected."
   ]
  },
  {
   "cell_type": "code",
   "execution_count": 22,
   "metadata": {},
   "outputs": [
    {
     "name": "stdout",
     "output_type": "stream",
     "text": [
      "Title: Loss And Gain\n",
      "Sentiment Analysis: [(['parade'], -0.25, 0.23333333333333334, None), (['good'], 0.7, 0.6000000000000001, None), (['no', 'more'], -0.25, 0.5, None), (['better'], 0.5, 0.5, None)]\n",
      "Polarity: 0.175\n"
     ]
    }
   ],
   "source": [
    "sentiment('Loss And Gain')\n",
    "#This polarity score is again about what I expected, as the poem felt fairly neutral. Although, it seemed to have more weighted words in my opinion\n",
    "#than the last poem, so I'm surprised some of those words weren't incorporated and weighed heavily."
   ]
  },
  {
   "cell_type": "code",
   "execution_count": null,
   "metadata": {},
   "outputs": [],
   "source": []
  }
 ],
 "metadata": {
  "kernelspec": {
   "display_name": "Python 3 (ipykernel)",
   "language": "python",
   "name": "python3"
  },
  "language_info": {
   "codemirror_mode": {
    "name": "ipython",
    "version": 3
   },
   "file_extension": ".py",
   "mimetype": "text/x-python",
   "name": "python",
   "nbconvert_exporter": "python",
   "pygments_lexer": "ipython3",
   "version": "3.9.12"
  }
 },
 "nbformat": 4,
 "nbformat_minor": 4
}
