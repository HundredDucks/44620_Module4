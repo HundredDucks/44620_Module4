{
 "cells": [
  {
   "cell_type": "markdown",
   "metadata": {},
   "source": [
    "# Web Mining and Applied NLP (44-620)\n",
    "\n",
    "## Requests, JSON, and NLP\n",
    "\n",
    "### Student Name:Zach Fuller\n",
    "\n",
    "Perform the tasks described in the Markdown cells below.  When you have completed the assignment make sure your code cells have all been run (and have output beneath them) and ensure you have committed and pushed ALL of your changes to your assignment repository.\n",
    "\n",
    "Make sure you have [installed spaCy and its pipeline](https://spacy.io/usage#quickstart) and [spaCyTextBlob](https://spacy.io/universe/project/spacy-textblob)\n",
    "\n",
    "Every question that requires you to write code will have a code cell underneath it; you may either write your entire solution in that cell or write it in a python file (`.py`), then import and run the appropriate code to answer the question.\n",
    "\n",
    "This assignment requires that you write additional files (either JSON or pickle files); make sure to submit those files in your repository as well."
   ]
  },
  {
   "cell_type": "markdown",
   "metadata": {
    "jp-MarkdownHeadingCollapsed": true,
    "tags": []
   },
   "source": [
    "## GitHub: https://github.com/HundredDucks/44620_Module4"
   ]
  },
  {
   "cell_type": "markdown",
   "metadata": {},
   "source": [
    "## Question 1"
   ]
  },
  {
   "cell_type": "markdown",
   "metadata": {},
   "source": [
    "1. The following code accesses the [lyrics.ovh](https://lyricsovh.docs.apiary.io/#reference/0/lyrics-of-a-song/search) public api, searches for the lyrics of a song, and stores it in a dictionary object.  Write the resulting json to a file (either a JSON file or a pickle file; you choose). You will read in the contents of this file for future questions so we do not need to frequently access the API."
   ]
  },
  {
   "cell_type": "code",
   "execution_count": 1,
   "metadata": {},
   "outputs": [],
   "source": [
    "import requests\n",
    "import json\n",
    "\n",
    "#result = json.loads(requests.get('https://api.lyrics.ovh/v1/They Might Be Giants/Birdhouse in your soul').text)\n",
    "#commented out the above code as it doesn't work, but I want to keep it around for future reference"
   ]
  },
  {
   "cell_type": "markdown",
   "metadata": {},
   "source": [
    "### Because the original API wasn't working, I had to try a handful of different methods. I first downloaded the dataset from Kaggle, but I soon realized that a lot of these songs were not professionally appropriate as was required in the directions, so I figured it was better to go with songs I know. I found some songs I am familiar with and copied some of the formatting from the Kaggle dataset to set up the dictionary. This took me a lot longer than I expected, but I think this is starting to make more sense."
   ]
  },
  {
   "cell_type": "code",
   "execution_count": 2,
   "metadata": {},
   "outputs": [],
   "source": [
    "nuclear_fusion =  {\n",
    "   \"Artist\": \"King Gizzard and the Lizard Wizard\",\n",
    "   \"Title\": \"Nuclear Fusion\",\n",
    "   \"Album\": \"Flying Microtonal Banana\",\n",
    "   \"Year\": \"2017\",\n",
    "   \"Lyric\": \"Look into the sky and see the pattern Reflecting in your eye from a distance Mirroring the stars are the atoms Mixing up like a cocktail The devil's inside all the detail The tittle runs wild under veil Coming together in the pattern Fit tightly like a dovetail Nuclear fusion All the bonds that be couldn't break us Exponentially in fine feather We're essentially one being All the bonds that be couldn't tear us From eventually fusing tightly We're essentially one being Nuclear fusion Ocean like a moat fortification Separating me from restoration My spirit leaves my body in frustration Flying through the world in radiation The devil's inside all the detail The tittle runs wild under veil Coming together in the pattern Fit tightly like a dovetail Nuclear fusion All the bonds that be couldn't break us Exponentially in fine feather We're essentially one being All the bonds that be couldn't tear us From eventually fusing tightly We're essentially one being Nuclear fusion\"\n",
    "}"
   ]
  },
  {
   "cell_type": "markdown",
   "metadata": {},
   "source": [
    "### Printing lyrics per the grading rubric. The rubric lists this as 1 point for Question 1, but it isn't requested until question 2, so I am going to print it for both questions just to be safe."
   ]
  },
  {
   "cell_type": "code",
   "execution_count": 3,
   "metadata": {},
   "outputs": [
    {
     "data": {
      "text/plain": [
       "\"Look into the sky and see the pattern Reflecting in your eye from a distance Mirroring the stars are the atoms Mixing up like a cocktail The devil's inside all the detail The tittle runs wild under veil Coming together in the pattern Fit tightly like a dovetail Nuclear fusion All the bonds that be couldn't break us Exponentially in fine feather We're essentially one being All the bonds that be couldn't tear us From eventually fusing tightly We're essentially one being Nuclear fusion Ocean like a moat fortification Separating me from restoration My spirit leaves my body in frustration Flying through the world in radiation The devil's inside all the detail The tittle runs wild under veil Coming together in the pattern Fit tightly like a dovetail Nuclear fusion All the bonds that be couldn't break us Exponentially in fine feather We're essentially one being All the bonds that be couldn't tear us From eventually fusing tightly We're essentially one being Nuclear fusion\""
      ]
     },
     "execution_count": 3,
     "metadata": {},
     "output_type": "execute_result"
    }
   ],
   "source": [
    "nuclear_fusion['Lyric']"
   ]
  },
  {
   "cell_type": "code",
   "execution_count": 4,
   "metadata": {},
   "outputs": [],
   "source": [
    "#found this way for converting to JSON online using WITH, seemed to be the only way that worked\n",
    "with open('nuclear_fusion.json', 'w') as fp:\n",
    "    json.dump(nuclear_fusion, fp)"
   ]
  },
  {
   "cell_type": "markdown",
   "metadata": {},
   "source": [
    "## Question 2"
   ]
  },
  {
   "cell_type": "markdown",
   "metadata": {},
   "source": [
    "2. Read in the contents of your file.  Print the lyrics of the song (not the entire dictionary!) and use spaCyTextBlob to perform sentiment analysis on the lyrics.  Print the polarity score of the sentiment analysis.  Given that the range of the polarity score is `[-1.0,1.0]` which corresponds to how positive or negative the text in question is, do you think the lyrics have a more positive or negative connotaion?  Answer this question in a comment in your code cell."
   ]
  },
  {
   "cell_type": "markdown",
   "metadata": {},
   "source": [
    "### Loading JSON file created in question 1, printing lyrics"
   ]
  },
  {
   "cell_type": "code",
   "execution_count": 5,
   "metadata": {},
   "outputs": [
    {
     "name": "stdout",
     "output_type": "stream",
     "text": [
      "Look into the sky and see the pattern Reflecting in your eye from a distance Mirroring the stars are the atoms Mixing up like a cocktail The devil's inside all the detail The tittle runs wild under veil Coming together in the pattern Fit tightly like a dovetail Nuclear fusion All the bonds that be couldn't break us Exponentially in fine feather We're essentially one being All the bonds that be couldn't tear us From eventually fusing tightly We're essentially one being Nuclear fusion Ocean like a moat fortification Separating me from restoration My spirit leaves my body in frustration Flying through the world in radiation The devil's inside all the detail The tittle runs wild under veil Coming together in the pattern Fit tightly like a dovetail Nuclear fusion All the bonds that be couldn't break us Exponentially in fine feather We're essentially one being All the bonds that be couldn't tear us From eventually fusing tightly We're essentially one being Nuclear fusion\n"
     ]
    }
   ],
   "source": [
    "with open('nuclear_fusion.json', 'r') as nf:\n",
    "    nf_data = json.load(nf)\n",
    "    print(nf_data['Lyric'])"
   ]
  },
  {
   "cell_type": "code",
   "execution_count": 6,
   "metadata": {},
   "outputs": [
    {
     "data": {
      "text/plain": [
       "<spacytextblob.spacytextblob.SpacyTextBlob at 0x1dece75a6d0>"
      ]
     },
     "execution_count": 6,
     "metadata": {},
     "output_type": "execute_result"
    }
   ],
   "source": [
    "import spacy\n",
    "from spacytextblob.spacytextblob import SpacyTextBlob\n",
    "nlp = spacy.load('en_core_web_sm')\n",
    "nlp.add_pipe('spacytextblob')"
   ]
  },
  {
   "cell_type": "code",
   "execution_count": 7,
   "metadata": {},
   "outputs": [
    {
     "name": "stdout",
     "output_type": "stream",
     "text": [
      "Sentiment Analysis: [(['wild'], 0.1, 0.4, None), (['fit'], 0.4, 0.4, None), (['tightly'], -0.17857142857142858, 0.2857142857142857, None), (['fine'], 0.4166666666666667, 0.5, None), (['essentially'], 0.0, 0.3, None), (['tightly', 'essentially'], 0.0, 0.3, None), (['wild'], 0.1, 0.4, None), (['fit'], 0.4, 0.4, None), (['tightly'], -0.17857142857142858, 0.2857142857142857, None), (['fine'], 0.4166666666666667, 0.5, None), (['essentially'], 0.0, 0.3, None), (['tightly', 'essentially'], 0.0, 0.3, None)]\n"
     ]
    }
   ],
   "source": [
    "doc = nlp(nf_data['Lyric'])\n",
    "print(\"Sentiment Analysis:\", doc._.blob.sentiment_assessments.assessments)"
   ]
  },
  {
   "cell_type": "code",
   "execution_count": 8,
   "metadata": {},
   "outputs": [
    {
     "name": "stdout",
     "output_type": "stream",
     "text": [
      "Polarity Score: 0.12301587301587302\n"
     ]
    }
   ],
   "source": [
    "print(\"Polarity Score:\", doc._.blob.polarity)\n",
    "#This is a very low positive polarity score, meaning that the lyrics are barely more positive than negative.\n",
    "#It is possible that the spaCyTextBlob sentinment analysis had a hard time figuring out the sentiment. However, I think it is more likely that\n",
    "#the sentiment of the song is fairly vague to begin with. For the next question, I will try to choose some songs with some clearer messages to see a wider range of polarity scores.\n",
    "#The words printed in teh sentiment analysis are interesting. It was mostly adjectives/adverbs. There are some more words in the lyrics with clearer context in my opinion, so I wonder why\n",
    "#these specific words were chosen."
   ]
  },
  {
   "cell_type": "markdown",
   "metadata": {},
   "source": [
    "## Question 3"
   ]
  },
  {
   "cell_type": "markdown",
   "metadata": {},
   "source": [
    "### This question took me a long time to figure out, and I had to approach it differently than directed since the API provided (as well as the other ones I looked up) were not working. So, I simply found the lyrics myself and pasted them in when running my function. I know this is not quite what was asked for, but I think the result is still the same and demonstrates the same understanding of NLP. I chose all songs from this specific artist as I saw them in concert last week, so it is fresh on the brain."
   ]
  },
  {
   "cell_type": "markdown",
   "metadata": {},
   "source": [
    "3. Write a function that takes an artist, song, and filename, accesses the lyrics.ovh api to get the song lyrics, and writes the results to the specified filename.  Test this function by getting the lyrics to any four songs of your choice and storing them in different files."
   ]
  },
  {
   "cell_type": "code",
   "execution_count": 9,
   "metadata": {},
   "outputs": [],
   "source": [
    "def lyrics(Artist, Title, Lyric):\n",
    "    song = dict(locals())\n",
    "    with open(f'{Title}.json', 'w') as fp:\n",
    "        json.dump(song, fp)\n",
    "    fp.close()\n",
    "    return song"
   ]
  },
  {
   "cell_type": "code",
   "execution_count": 10,
   "metadata": {},
   "outputs": [
    {
     "data": {
      "text/plain": [
       "{'Artist': 'King Gizzard and the Lizard Wizard',\n",
       " 'Title': 'The River',\n",
       " 'Lyric': \"Once you're in the zone The river flows down like a full stone Water is your bed The ripples cushion your head I can't believe it, it is frozen It's not the first time, I had noticed She will deliver, I am floating Trust in the river I had floated down, floated down Floated down, floated down Floated down, down down, down down, down down (The river) Down, down down, down down, down down (The river) Once you're where I led It will be clear what I have said Float without a home The river flows like another long road I can't believe it, it is frozen It's not the first time, I had noticed She will deliver, I am floating Trust in the river I had floated down, floated down Floated down, floated down Floated down, down down, down down, down down (The river) Down, down down, down down, down down (The river) Down, down down, down down, down down (The river) Down, down down, down down, down down (The river) Frozen over home The fading light shines on the white stone Melt your little zone And sink into the waterfall flow I can't believe it, it is frozen It's not the first time, I had noticed She will deliver, I am floating Trust in the river I had floated down, floated down Floated down, floated down Floated down, down down, down down, down down (The river) Down, down down, down down, down down (The river) Down, down down, down down, down down (The river) Down, down down, down down, down down (The river)\"}"
      ]
     },
     "execution_count": 10,
     "metadata": {},
     "output_type": "execute_result"
    }
   ],
   "source": [
    "lyrics('King Gizzard and the Lizard Wizard', 'The River', \"Once you're in the zone The river flows down like a full stone Water is your bed The ripples cushion your head I can't believe it, it is frozen It's not the first time, I had noticed She will deliver, I am floating Trust in the river I had floated down, floated down Floated down, floated down Floated down, down down, down down, down down (The river) Down, down down, down down, down down (The river) Once you're where I led It will be clear what I have said Float without a home The river flows like another long road I can't believe it, it is frozen It's not the first time, I had noticed She will deliver, I am floating Trust in the river I had floated down, floated down Floated down, floated down Floated down, down down, down down, down down (The river) Down, down down, down down, down down (The river) Down, down down, down down, down down (The river) Down, down down, down down, down down (The river) Frozen over home The fading light shines on the white stone Melt your little zone And sink into the waterfall flow I can't believe it, it is frozen It's not the first time, I had noticed She will deliver, I am floating Trust in the river I had floated down, floated down Floated down, floated down Floated down, down down, down down, down down (The river) Down, down down, down down, down down (The river) Down, down down, down down, down down (The river) Down, down down, down down, down down (The river)\")"
   ]
  },
  {
   "cell_type": "code",
   "execution_count": 11,
   "metadata": {},
   "outputs": [
    {
     "data": {
      "text/plain": [
       "{'Artist': 'King Gizzard and the Lizard Wizard',\n",
       " 'Title': 'Honey',\n",
       " 'Lyric': \"You taste like honey, all warm and runny Kinder than a candy, effervescent shandy Days are ever sweeter when I wake up near ya The world we're in is broken and you're the magic potion Like the wind on a sail I'll steer you along And the germs outside I'll keep you from Like the hail in the morn' I'll sing you a song While the mead I make can brew for you You taste like honey You taste like honey You taste like honey Life is what you do in it while you're floating through it Cut the rope some slack then while we get the knack of it We're endless motion, drink to that notion Buoyant is your spirit, gotta keep me near it Like the wind on a sail I'll steer you along And the germs outside I'll keep you from Like the hail in the morn' I'll sing you a song While the mead I make can brew for you You taste like honey You taste like honey You taste like honey You taste like honey You taste like honey You taste like honey Life is what you do in it while you're floating through it Cut the rope some slack then while we get the knack of it Days are ever sweeter when I wake up near ya The world we're in is broken and you're the magic potion\"}"
      ]
     },
     "execution_count": 11,
     "metadata": {},
     "output_type": "execute_result"
    }
   ],
   "source": [
    "lyrics('King Gizzard and the Lizard Wizard', 'Honey', \"You taste like honey, all warm and runny Kinder than a candy, effervescent shandy Days are ever sweeter when I wake up near ya The world we're in is broken and you're the magic potion Like the wind on a sail I'll steer you along And the germs outside I'll keep you from Like the hail in the morn' I'll sing you a song While the mead I make can brew for you You taste like honey You taste like honey You taste like honey Life is what you do in it while you're floating through it Cut the rope some slack then while we get the knack of it We're endless motion, drink to that notion Buoyant is your spirit, gotta keep me near it Like the wind on a sail I'll steer you along And the germs outside I'll keep you from Like the hail in the morn' I'll sing you a song While the mead I make can brew for you You taste like honey You taste like honey You taste like honey You taste like honey You taste like honey You taste like honey Life is what you do in it while you're floating through it Cut the rope some slack then while we get the knack of it Days are ever sweeter when I wake up near ya The world we're in is broken and you're the magic potion\")"
   ]
  },
  {
   "cell_type": "code",
   "execution_count": 12,
   "metadata": {},
   "outputs": [
    {
     "data": {
      "text/plain": [
       "{'Artist': 'King Gizzard and the Lizard Wizard',\n",
       " 'Title': 'Crumbling Castle',\n",
       " 'Lyric': \"Meet me glassy eyed, blind, and divine Under a void on the ghost land The castle is a pimple on the face of the world The embers burned for ghouls to tread if you’d please try I see through the bricks, to the sea, crumbling castle Water's rising up, thick and green, crumbling castle Inching closer each century, crumbling castle Are we safe in our citadel? Look upon our condition, crumbling castle You would not believe where I'm from, crumbling castle We pray for the death, that does not come, crumbling castle Dug all of our holes in God's Acre, crumbling castle We have even said our last rites, crumbling castle Are we safe in our holding cell? Look upon our condition, crumbling castle We head to our extinction, crumbling castle The sounds of the constant lightning Would be enough to block out the Fall of the end of the world if that were [?] crumble down In the wind I sway, back and forth I'm brittle as an aged human being When my walls are safe from world weather The build forms into great nastiness Polygondwanaland I don't want to be a crumbling, crumbling, crumbling castle I don't want to be a crumbling, crumbling, crumbling castle I don't want to fall into dust I don't want nothing but to live on The ache inside my keep spurs me on I don't want to be visible Polygondwanaland I don't want to be a crumbling, crumbling, crumbling castle I don't want to be a crumbling, crumbling, crumbling castle On this very day, in one thousand Years the earth will be relative to the Sun and the moon and a new world will be Created, I know because it is written here I see through the bricks to the sea, crumbling castle Inching closer each century, crumbling castle Water's rising up, thick and green, crumbling castle Are we safe in our citadel? Look upon our condition, crumbling castle You would not believe where I'm from, crumbling castle I don't want to be a crumbling, crumbling, crumbling castle Don't want to be a crumbling, crumbling, crumbling castle Don't want to be a crumbling, crumbling, crumbling castle Don't want to be a crumbling, crumbling, crumbling castle\"}"
      ]
     },
     "execution_count": 12,
     "metadata": {},
     "output_type": "execute_result"
    }
   ],
   "source": [
    "lyrics('King Gizzard and the Lizard Wizard', 'Crumbling Castle', \"Meet me glassy eyed, blind, and divine Under a void on the ghost land The castle is a pimple on the face of the world The embers burned for ghouls to tread if you’d please try I see through the bricks, to the sea, crumbling castle Water's rising up, thick and green, crumbling castle Inching closer each century, crumbling castle Are we safe in our citadel? Look upon our condition, crumbling castle You would not believe where I'm from, crumbling castle We pray for the death, that does not come, crumbling castle Dug all of our holes in God's Acre, crumbling castle We have even said our last rites, crumbling castle Are we safe in our holding cell? Look upon our condition, crumbling castle We head to our extinction, crumbling castle The sounds of the constant lightning Would be enough to block out the Fall of the end of the world if that were [?] crumble down In the wind I sway, back and forth I'm brittle as an aged human being When my walls are safe from world weather The build forms into great nastiness Polygondwanaland I don't want to be a crumbling, crumbling, crumbling castle I don't want to be a crumbling, crumbling, crumbling castle I don't want to fall into dust I don't want nothing but to live on The ache inside my keep spurs me on I don't want to be visible Polygondwanaland I don't want to be a crumbling, crumbling, crumbling castle I don't want to be a crumbling, crumbling, crumbling castle On this very day, in one thousand Years the earth will be relative to the Sun and the moon and a new world will be Created, I know because it is written here I see through the bricks to the sea, crumbling castle Inching closer each century, crumbling castle Water's rising up, thick and green, crumbling castle Are we safe in our citadel? Look upon our condition, crumbling castle You would not believe where I'm from, crumbling castle I don't want to be a crumbling, crumbling, crumbling castle Don't want to be a crumbling, crumbling, crumbling castle Don't want to be a crumbling, crumbling, crumbling castle Don't want to be a crumbling, crumbling, crumbling castle\")"
   ]
  },
  {
   "cell_type": "code",
   "execution_count": 13,
   "metadata": {},
   "outputs": [
    {
     "data": {
      "text/plain": [
       "{'Artist': 'King Gizzard and the Lizard Wizard',\n",
       " 'Title': 'Kepler-22b',\n",
       " 'Lyric': \"Nerdy kid at school with astral thoughts Wanted to be an astronaut So I could be alone in space Get away Dreamt of Kepler-22b That's the place for me I didn't get the grades to be a NASA astronaut Couldn't knuckle down or focus on my schoolwork I became a ghetto engineer making shit out of glass To refract the light from distant stars Then I built a telescope So big Pointed it at Kepler-22b That's the place for me Good for ya Obsession is good for ya Good for ya Obsession is good for ya Can you guess the first thing I seen on Kepler-22b? A telescope pointing back at me On Kepler-22b A telescope pointing back at me On Kepler-22b A telescope pointing back at me On Kepler-22b A telescope pointing back at me Good for ya Obsession is good for ya Good for ya Obsession is good for ya Good for ya Obsession is good for ya Good for ya Obsession is good for ya\"}"
      ]
     },
     "execution_count": 13,
     "metadata": {},
     "output_type": "execute_result"
    }
   ],
   "source": [
    "lyrics('King Gizzard and the Lizard Wizard', 'Kepler-22b', \"Nerdy kid at school with astral thoughts Wanted to be an astronaut So I could be alone in space Get away Dreamt of Kepler-22b That's the place for me I didn't get the grades to be a NASA astronaut Couldn't knuckle down or focus on my schoolwork I became a ghetto engineer making shit out of glass To refract the light from distant stars Then I built a telescope So big Pointed it at Kepler-22b That's the place for me Good for ya Obsession is good for ya Good for ya Obsession is good for ya Can you guess the first thing I seen on Kepler-22b? A telescope pointing back at me On Kepler-22b A telescope pointing back at me On Kepler-22b A telescope pointing back at me On Kepler-22b A telescope pointing back at me Good for ya Obsession is good for ya Good for ya Obsession is good for ya Good for ya Obsession is good for ya Good for ya Obsession is good for ya\")"
   ]
  },
  {
   "cell_type": "markdown",
   "metadata": {},
   "source": [
    "## Question 4 - Respons are listed in code cells as comments"
   ]
  },
  {
   "cell_type": "markdown",
   "metadata": {},
   "source": [
    "4. Write a function that takes the name of a file that contains song lyrics, loads the file, performs sentiment analysis, and returns the polarity score.  Use this function to print the polarity scores (with the name of the song) of the three files you created in question 3.  Does the reported polarity match your understanding of the song's lyrics? Why or why not do you think that might be?  Answer the questions in either a comment in the code cell or a markdown cell under the code cell."
   ]
  },
  {
   "cell_type": "code",
   "execution_count": 14,
   "metadata": {},
   "outputs": [],
   "source": [
    "def sentiment(song):\n",
    "    with open(f'{song}.json', 'r') as file:\n",
    "        file_data = json.load(file)\n",
    "        doc = nlp(file_data['Lyric'])\n",
    "        sa = doc._.blob.sentiment_assessments.assessments\n",
    "        polarity = doc._.blob.polarity\n",
    "        print(\"Title: \" + song)\n",
    "        print(\"Sentiment Analysis: \" + str(sa))\n",
    "        print(\"Polarity: \" + str(polarity))"
   ]
  },
  {
   "cell_type": "code",
   "execution_count": 15,
   "metadata": {},
   "outputs": [
    {
     "name": "stdout",
     "output_type": "stream",
     "text": [
      "Title: The River\n",
      "Sentiment Analysis: [(['down'], -0.15555555555555559, 0.2888888888888889, None), (['full'], 0.35, 0.55, None), (['first'], 0.25, 0.3333333333333333, None), (['down'], -0.15555555555555559, 0.2888888888888889, None), (['down'], -0.15555555555555559, 0.2888888888888889, None), (['down'], -0.15555555555555559, 0.2888888888888889, None), (['down'], -0.15555555555555559, 0.2888888888888889, None), (['down'], -0.15555555555555559, 0.2888888888888889, None), (['down'], -0.15555555555555559, 0.2888888888888889, None), (['down'], -0.15555555555555559, 0.2888888888888889, None), (['down'], -0.15555555555555559, 0.2888888888888889, None), (['down'], -0.15555555555555559, 0.2888888888888889, None), (['down'], -0.15555555555555559, 0.2888888888888889, None), (['down'], -0.15555555555555559, 0.2888888888888889, None), (['down'], -0.15555555555555559, 0.2888888888888889, None), (['down'], -0.15555555555555559, 0.2888888888888889, None), (['down'], -0.15555555555555559, 0.2888888888888889, None), (['down'], -0.15555555555555559, 0.2888888888888889, None), (['down'], -0.15555555555555559, 0.2888888888888889, None), (['down'], -0.15555555555555559, 0.2888888888888889, None), (['down'], -0.15555555555555559, 0.2888888888888889, None), (['clear'], 0.10000000000000002, 0.3833333333333333, None), (['long'], -0.05, 0.4, None), (['first'], 0.25, 0.3333333333333333, None), (['down'], -0.15555555555555559, 0.2888888888888889, None), (['down'], -0.15555555555555559, 0.2888888888888889, None), (['down'], -0.15555555555555559, 0.2888888888888889, None), (['down'], -0.15555555555555559, 0.2888888888888889, None), (['down'], -0.15555555555555559, 0.2888888888888889, None), (['down'], -0.15555555555555559, 0.2888888888888889, None), (['down'], -0.15555555555555559, 0.2888888888888889, None), (['down'], -0.15555555555555559, 0.2888888888888889, None), (['down'], -0.15555555555555559, 0.2888888888888889, None), (['down'], -0.15555555555555559, 0.2888888888888889, None), (['down'], -0.15555555555555559, 0.2888888888888889, None), (['down'], -0.15555555555555559, 0.2888888888888889, None), (['down'], -0.15555555555555559, 0.2888888888888889, None), (['down'], -0.15555555555555559, 0.2888888888888889, None), (['down'], -0.15555555555555559, 0.2888888888888889, None), (['down'], -0.15555555555555559, 0.2888888888888889, None), (['down'], -0.15555555555555559, 0.2888888888888889, None), (['down'], -0.15555555555555559, 0.2888888888888889, None), (['down'], -0.15555555555555559, 0.2888888888888889, None), (['down'], -0.15555555555555559, 0.2888888888888889, None), (['down'], -0.15555555555555559, 0.2888888888888889, None), (['down'], -0.15555555555555559, 0.2888888888888889, None), (['down'], -0.15555555555555559, 0.2888888888888889, None), (['down'], -0.15555555555555559, 0.2888888888888889, None), (['down'], -0.15555555555555559, 0.2888888888888889, None), (['down'], -0.15555555555555559, 0.2888888888888889, None), (['down'], -0.15555555555555559, 0.2888888888888889, None), (['down'], -0.15555555555555559, 0.2888888888888889, None), (['down'], -0.15555555555555559, 0.2888888888888889, None), (['down'], -0.15555555555555559, 0.2888888888888889, None), (['down'], -0.15555555555555559, 0.2888888888888889, None), (['down'], -0.15555555555555559, 0.2888888888888889, None), (['light'], 0.4, 0.7, None), (['white'], 0.0, 0.0, None), (['little'], -0.1875, 0.5, None), (['first'], 0.25, 0.3333333333333333, None), (['down'], -0.15555555555555559, 0.2888888888888889, None), (['down'], -0.15555555555555559, 0.2888888888888889, None), (['down'], -0.15555555555555559, 0.2888888888888889, None), (['down'], -0.15555555555555559, 0.2888888888888889, None), (['down'], -0.15555555555555559, 0.2888888888888889, None), (['down'], -0.15555555555555559, 0.2888888888888889, None), (['down'], -0.15555555555555559, 0.2888888888888889, None), (['down'], -0.15555555555555559, 0.2888888888888889, None), (['down'], -0.15555555555555559, 0.2888888888888889, None), (['down'], -0.15555555555555559, 0.2888888888888889, None), (['down'], -0.15555555555555559, 0.2888888888888889, None), (['down'], -0.15555555555555559, 0.2888888888888889, None), (['down'], -0.15555555555555559, 0.2888888888888889, None), (['down'], -0.15555555555555559, 0.2888888888888889, None), (['down'], -0.15555555555555559, 0.2888888888888889, None), (['down'], -0.15555555555555559, 0.2888888888888889, None), (['down'], -0.15555555555555559, 0.2888888888888889, None), (['down'], -0.15555555555555559, 0.2888888888888889, None), (['down'], -0.15555555555555559, 0.2888888888888889, None), (['down'], -0.15555555555555559, 0.2888888888888889, None), (['down'], -0.15555555555555559, 0.2888888888888889, None), (['down'], -0.15555555555555559, 0.2888888888888889, None), (['down'], -0.15555555555555559, 0.2888888888888889, None), (['down'], -0.15555555555555559, 0.2888888888888889, None), (['down'], -0.15555555555555559, 0.2888888888888889, None), (['down'], -0.15555555555555559, 0.2888888888888889, None), (['down'], -0.15555555555555559, 0.2888888888888889, None), (['down'], -0.15555555555555559, 0.2888888888888889, None), (['down'], -0.15555555555555559, 0.2888888888888889, None), (['down'], -0.15555555555555559, 0.2888888888888889, None), (['down'], -0.15555555555555559, 0.2888888888888889, None), (['down'], -0.15555555555555559, 0.2888888888888889, None)]\n",
      "Polarity: -0.12552838164251204\n"
     ]
    }
   ],
   "source": [
    "sentiment('The River')\n",
    "#The polarity here does not match what I expected, as when I have heard this song, I thought that the lyrics were supposed to\n",
    "#be joyful and relaxing. However, one thing that sentiment analysis can't account for is the music itself, which can\n",
    "#have a big effect on how we interpret lyrics.\n",
    "#I think the reason this score was negative was because of the frequent use of the word \"down\", as shown in the sentiment analysis"
   ]
  },
  {
   "cell_type": "code",
   "execution_count": 16,
   "metadata": {},
   "outputs": [
    {
     "name": "stdout",
     "output_type": "stream",
     "text": [
      "Title: Honey\n",
      "Sentiment Analysis: [(['warm'], 0.6, 0.6, None), (['near'], 0.1, 0.4, None), (['broken'], -0.4, 0.4, None), (['magic'], 0.5, 1.0, None), (['outside'], 0.0, 0.05, None), (['endless'], -0.125, 0.75, None), (['near'], 0.1, 0.4, None), (['outside'], 0.0, 0.05, None), (['near'], 0.1, 0.4, None), (['broken'], -0.4, 0.4, None), (['magic'], 0.5, 1.0, None)]\n",
      "Polarity: 0.08863636363636362\n"
     ]
    }
   ],
   "source": [
    "sentiment('Honey')\n",
    "#The polarity score is a little lower than I expected, as this is a simple love song. However, the lyrics have enough strange\n",
    "#references that I can see why this would be lower than expected. In the sentiment analysis, it looks like the words \"broken\"\n",
    "# and \"endless\" were rated negaitvely, driving the score down. Additionally, I don't think there were enough other words that\n",
    "#stood out enough to be weighted."
   ]
  },
  {
   "cell_type": "code",
   "execution_count": 17,
   "metadata": {},
   "outputs": [
    {
     "name": "stdout",
     "output_type": "stream",
     "text": [
      "Title: Crumbling Castle\n",
      "Sentiment Analysis: [(['blind'], -0.5, 0.6666666666666666, None), (['thick'], -0.30000000000000004, 0.475, None), (['green'], -0.2, 0.3, None), (['safe'], 0.5, 0.5, None), (['last'], 0.0, 0.06666666666666667, None), (['safe'], 0.5, 0.5, None), (['constant'], 0.0, 0.3333333333333333, None), (['enough'], 0.0, 0.5, None), (['down'], -0.15555555555555559, 0.2888888888888889, None), (['back'], 0.0, 0.0, None), (['aged'], -0.1, 0.4, None), (['human'], 0.0, 0.1, None), (['safe'], 0.5, 0.5, None), (['great'], 0.8, 0.75, None), (['live'], 0.13636363636363635, 0.5, None), (['very'], 0.2, 0.3, None), (['relative'], 0.0, 0.0, None), (['new'], 0.13636363636363635, 0.45454545454545453, None), (['thick'], -0.30000000000000004, 0.475, None), (['green'], -0.2, 0.3, None), (['safe'], 0.5, 0.5, None)]\n",
      "Polarity: 0.07224627224627225\n"
     ]
    }
   ],
   "source": [
    "sentiment('Crumbling Castle')\n",
    "#This song had a higher polarity score than I imagined, which I expected to be negative given that it tells the story of a sci-fi\n",
    "#doomsday secnario. It's interesting that the sentiment analysis picked up on a lot of the adjectives used in this song as opposed\n",
    "#to some of the more clear nouns. It's also interesting to see that the word \"human\" had an almost neutral score/weight."
   ]
  },
  {
   "cell_type": "code",
   "execution_count": 18,
   "metadata": {},
   "outputs": [
    {
     "name": "stdout",
     "output_type": "stream",
     "text": [
      "Title: Kepler-22b\n",
      "Sentiment Analysis: [(['down'], -0.15555555555555559, 0.2888888888888889, None), (['shit'], -0.2, 0.8, 'profanity'), (['light'], 0.4, 0.7, None), (['distant'], -0.1, 0.35, None), (['big'], 0.0, 0.1, None), (['good'], 0.7, 0.6000000000000001, None), (['good'], 0.7, 0.6000000000000001, None), (['good'], 0.7, 0.6000000000000001, None), (['good'], 0.7, 0.6000000000000001, None), (['first'], 0.25, 0.3333333333333333, None), (['back'], 0.0, 0.0, None), (['back'], 0.0, 0.0, None), (['back'], 0.0, 0.0, None), (['back'], 0.0, 0.0, None), (['good'], 0.7, 0.6000000000000001, None), (['good'], 0.7, 0.6000000000000001, None), (['good'], 0.7, 0.6000000000000001, None), (['good'], 0.7, 0.6000000000000001, None), (['good'], 0.7, 0.6000000000000001, None), (['good'], 0.7, 0.6000000000000001, None), (['good'], 0.7, 0.6000000000000001, None), (['good'], 0.7, 0.6000000000000001, None)]\n",
      "Polarity: 0.3906565656565657\n"
     ]
    }
   ],
   "source": [
    "sentiment('Kepler-22b')\n",
    "#The polarity score was about what I expected for this song. This song seems to be kind of hopeful and fun, and I think that is\n",
    "#represented by this score. It looks like the repeated use of the word \"good\" in the chorus helped to drive the sentiment analysis\n",
    "#up. That raises an interesting problem though, in that words found in choruses are more likely to appear multiple times as opposed\n",
    "#to words found in verses, as choruses are repeated throughout a song. So, if the sentiment analysis could differentiate between\n",
    "#sections of a song, could it know to weigh a word higher or lower depending on where the song appears?"
   ]
  },
  {
   "cell_type": "code",
   "execution_count": null,
   "metadata": {},
   "outputs": [],
   "source": []
  }
 ],
 "metadata": {
  "kernelspec": {
   "display_name": "Python 3 (ipykernel)",
   "language": "python",
   "name": "python3"
  },
  "language_info": {
   "codemirror_mode": {
    "name": "ipython",
    "version": 3
   },
   "file_extension": ".py",
   "mimetype": "text/x-python",
   "name": "python",
   "nbconvert_exporter": "python",
   "pygments_lexer": "ipython3",
   "version": "3.9.12"
  }
 },
 "nbformat": 4,
 "nbformat_minor": 4
}
